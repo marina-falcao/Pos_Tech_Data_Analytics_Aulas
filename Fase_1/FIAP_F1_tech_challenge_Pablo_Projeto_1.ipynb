{
  "nbformat": 4,
  "nbformat_minor": 0,
  "metadata": {
    "colab": {
      "provenance": []
    },
    "kernelspec": {
      "name": "python3",
      "display_name": "Python 3"
    },
    "language_info": {
      "name": "python"
    }
  },
  "cells": [
    {
      "cell_type": "code",
      "source": [
        "# from google.colab import drive\n",
        "# drive.mount('/content/drive')"
      ],
      "metadata": {
        "id": "OR_09fdGJUaR"
      },
      "execution_count": 139,
      "outputs": []
    },
    {
      "cell_type": "code",
      "execution_count": 140,
      "metadata": {
        "id": "EkI-oW-5ZVY0"
      },
      "outputs": [],
      "source": [
        "import matplotlib.pyplot as plt\n",
        "import numpy as np\n",
        "import pandas as pd\n",
        "import seaborn as sns\n",
        "from pathlib import Path"
      ]
    },
    {
      "cell_type": "markdown",
      "source": [
        "# Uma Análise da Exportação de Vinhos - Brasil"
      ],
      "metadata": {
        "id": "VB6m1Ui6aAfq"
      }
    },
    {
      "cell_type": "markdown",
      "source": [
        "## Base de dados"
      ],
      "metadata": {
        "id": "PiXsU_boZytM"
      }
    },
    {
      "cell_type": "code",
      "source": [
        "df_completo = pd.read_csv('/content/ExpVinho.csv', sep=';', thousands='.', decimal=',')\n",
        "df_completo.drop(columns=['Id'], inplace=True)\n",
        "df_completo.rename(columns={'País': 'pais'}, inplace=True)"
      ],
      "metadata": {
        "id": "vURn6PuQat-e"
      },
      "execution_count": 141,
      "outputs": []
    },
    {
      "cell_type": "code",
      "source": [
        "df_completo.head()"
      ],
      "metadata": {
        "colab": {
          "base_uri": "https://localhost:8080/",
          "height": 236
        },
        "id": "Q2mBsSM8NoCs",
        "outputId": "ec8b190c-0a68-460b-bc45-659b573ac68e"
      },
      "execution_count": 142,
      "outputs": [
        {
          "output_type": "execute_result",
          "data": {
            "text/plain": [
              "                              pais  1970  1970.1  1971  1971.1  1972  1972.1  \\\n",
              "0                      Afeganistão     0       0     0       0     0       0   \n",
              "1                    África do Sul     0       0     0       0     0       0   \n",
              "2  Alemanha, República Democrática     0       0     0       0  4168    2630   \n",
              "3                           Angola     0       0     0       0     0       0   \n",
              "4                         Anguilla     0       0     0       0     0       0   \n",
              "\n",
              "    1973  1973.1  1974  ...   2017  2017.1   2018  2018.1  2019  2019.1  2020  \\\n",
              "0      0       0     0  ...      0       0      0       0     0       0     0   \n",
              "1      0       0     0  ...      0       0      0       0    26      95     4   \n",
              "2  12000    8250     0  ...  15467   87702  10794   45382  3660   25467  6261   \n",
              "3      0       0     0  ...  10170   61680    477     709   345    1065     0   \n",
              "4      0       0     0  ...      0       0      0       0     0       0     0   \n",
              "\n",
              "   2020.1  2021  2021.1  \n",
              "0       0    11      46  \n",
              "1      21     0       0  \n",
              "2   32605  2698    6741  \n",
              "3       0     0       0  \n",
              "4       0     0       0  \n",
              "\n",
              "[5 rows x 105 columns]"
            ],
            "text/html": [
              "\n",
              "  <div id=\"df-dcfcd4b4-6d66-4170-b412-ca3d40b2044a\">\n",
              "    <div class=\"colab-df-container\">\n",
              "      <div>\n",
              "<style scoped>\n",
              "    .dataframe tbody tr th:only-of-type {\n",
              "        vertical-align: middle;\n",
              "    }\n",
              "\n",
              "    .dataframe tbody tr th {\n",
              "        vertical-align: top;\n",
              "    }\n",
              "\n",
              "    .dataframe thead th {\n",
              "        text-align: right;\n",
              "    }\n",
              "</style>\n",
              "<table border=\"1\" class=\"dataframe\">\n",
              "  <thead>\n",
              "    <tr style=\"text-align: right;\">\n",
              "      <th></th>\n",
              "      <th>pais</th>\n",
              "      <th>1970</th>\n",
              "      <th>1970.1</th>\n",
              "      <th>1971</th>\n",
              "      <th>1971.1</th>\n",
              "      <th>1972</th>\n",
              "      <th>1972.1</th>\n",
              "      <th>1973</th>\n",
              "      <th>1973.1</th>\n",
              "      <th>1974</th>\n",
              "      <th>...</th>\n",
              "      <th>2017</th>\n",
              "      <th>2017.1</th>\n",
              "      <th>2018</th>\n",
              "      <th>2018.1</th>\n",
              "      <th>2019</th>\n",
              "      <th>2019.1</th>\n",
              "      <th>2020</th>\n",
              "      <th>2020.1</th>\n",
              "      <th>2021</th>\n",
              "      <th>2021.1</th>\n",
              "    </tr>\n",
              "  </thead>\n",
              "  <tbody>\n",
              "    <tr>\n",
              "      <th>0</th>\n",
              "      <td>Afeganistão</td>\n",
              "      <td>0</td>\n",
              "      <td>0</td>\n",
              "      <td>0</td>\n",
              "      <td>0</td>\n",
              "      <td>0</td>\n",
              "      <td>0</td>\n",
              "      <td>0</td>\n",
              "      <td>0</td>\n",
              "      <td>0</td>\n",
              "      <td>...</td>\n",
              "      <td>0</td>\n",
              "      <td>0</td>\n",
              "      <td>0</td>\n",
              "      <td>0</td>\n",
              "      <td>0</td>\n",
              "      <td>0</td>\n",
              "      <td>0</td>\n",
              "      <td>0</td>\n",
              "      <td>11</td>\n",
              "      <td>46</td>\n",
              "    </tr>\n",
              "    <tr>\n",
              "      <th>1</th>\n",
              "      <td>África do Sul</td>\n",
              "      <td>0</td>\n",
              "      <td>0</td>\n",
              "      <td>0</td>\n",
              "      <td>0</td>\n",
              "      <td>0</td>\n",
              "      <td>0</td>\n",
              "      <td>0</td>\n",
              "      <td>0</td>\n",
              "      <td>0</td>\n",
              "      <td>...</td>\n",
              "      <td>0</td>\n",
              "      <td>0</td>\n",
              "      <td>0</td>\n",
              "      <td>0</td>\n",
              "      <td>26</td>\n",
              "      <td>95</td>\n",
              "      <td>4</td>\n",
              "      <td>21</td>\n",
              "      <td>0</td>\n",
              "      <td>0</td>\n",
              "    </tr>\n",
              "    <tr>\n",
              "      <th>2</th>\n",
              "      <td>Alemanha, República Democrática</td>\n",
              "      <td>0</td>\n",
              "      <td>0</td>\n",
              "      <td>0</td>\n",
              "      <td>0</td>\n",
              "      <td>4168</td>\n",
              "      <td>2630</td>\n",
              "      <td>12000</td>\n",
              "      <td>8250</td>\n",
              "      <td>0</td>\n",
              "      <td>...</td>\n",
              "      <td>15467</td>\n",
              "      <td>87702</td>\n",
              "      <td>10794</td>\n",
              "      <td>45382</td>\n",
              "      <td>3660</td>\n",
              "      <td>25467</td>\n",
              "      <td>6261</td>\n",
              "      <td>32605</td>\n",
              "      <td>2698</td>\n",
              "      <td>6741</td>\n",
              "    </tr>\n",
              "    <tr>\n",
              "      <th>3</th>\n",
              "      <td>Angola</td>\n",
              "      <td>0</td>\n",
              "      <td>0</td>\n",
              "      <td>0</td>\n",
              "      <td>0</td>\n",
              "      <td>0</td>\n",
              "      <td>0</td>\n",
              "      <td>0</td>\n",
              "      <td>0</td>\n",
              "      <td>0</td>\n",
              "      <td>...</td>\n",
              "      <td>10170</td>\n",
              "      <td>61680</td>\n",
              "      <td>477</td>\n",
              "      <td>709</td>\n",
              "      <td>345</td>\n",
              "      <td>1065</td>\n",
              "      <td>0</td>\n",
              "      <td>0</td>\n",
              "      <td>0</td>\n",
              "      <td>0</td>\n",
              "    </tr>\n",
              "    <tr>\n",
              "      <th>4</th>\n",
              "      <td>Anguilla</td>\n",
              "      <td>0</td>\n",
              "      <td>0</td>\n",
              "      <td>0</td>\n",
              "      <td>0</td>\n",
              "      <td>0</td>\n",
              "      <td>0</td>\n",
              "      <td>0</td>\n",
              "      <td>0</td>\n",
              "      <td>0</td>\n",
              "      <td>...</td>\n",
              "      <td>0</td>\n",
              "      <td>0</td>\n",
              "      <td>0</td>\n",
              "      <td>0</td>\n",
              "      <td>0</td>\n",
              "      <td>0</td>\n",
              "      <td>0</td>\n",
              "      <td>0</td>\n",
              "      <td>0</td>\n",
              "      <td>0</td>\n",
              "    </tr>\n",
              "  </tbody>\n",
              "</table>\n",
              "<p>5 rows × 105 columns</p>\n",
              "</div>\n",
              "      <button class=\"colab-df-convert\" onclick=\"convertToInteractive('df-dcfcd4b4-6d66-4170-b412-ca3d40b2044a')\"\n",
              "              title=\"Convert this dataframe to an interactive table.\"\n",
              "              style=\"display:none;\">\n",
              "        \n",
              "  <svg xmlns=\"http://www.w3.org/2000/svg\" height=\"24px\"viewBox=\"0 0 24 24\"\n",
              "       width=\"24px\">\n",
              "    <path d=\"M0 0h24v24H0V0z\" fill=\"none\"/>\n",
              "    <path d=\"M18.56 5.44l.94 2.06.94-2.06 2.06-.94-2.06-.94-.94-2.06-.94 2.06-2.06.94zm-11 1L8.5 8.5l.94-2.06 2.06-.94-2.06-.94L8.5 2.5l-.94 2.06-2.06.94zm10 10l.94 2.06.94-2.06 2.06-.94-2.06-.94-.94-2.06-.94 2.06-2.06.94z\"/><path d=\"M17.41 7.96l-1.37-1.37c-.4-.4-.92-.59-1.43-.59-.52 0-1.04.2-1.43.59L10.3 9.45l-7.72 7.72c-.78.78-.78 2.05 0 2.83L4 21.41c.39.39.9.59 1.41.59.51 0 1.02-.2 1.41-.59l7.78-7.78 2.81-2.81c.8-.78.8-2.07 0-2.86zM5.41 20L4 18.59l7.72-7.72 1.47 1.35L5.41 20z\"/>\n",
              "  </svg>\n",
              "      </button>\n",
              "      \n",
              "  <style>\n",
              "    .colab-df-container {\n",
              "      display:flex;\n",
              "      flex-wrap:wrap;\n",
              "      gap: 12px;\n",
              "    }\n",
              "\n",
              "    .colab-df-convert {\n",
              "      background-color: #E8F0FE;\n",
              "      border: none;\n",
              "      border-radius: 50%;\n",
              "      cursor: pointer;\n",
              "      display: none;\n",
              "      fill: #1967D2;\n",
              "      height: 32px;\n",
              "      padding: 0 0 0 0;\n",
              "      width: 32px;\n",
              "    }\n",
              "\n",
              "    .colab-df-convert:hover {\n",
              "      background-color: #E2EBFA;\n",
              "      box-shadow: 0px 1px 2px rgba(60, 64, 67, 0.3), 0px 1px 3px 1px rgba(60, 64, 67, 0.15);\n",
              "      fill: #174EA6;\n",
              "    }\n",
              "\n",
              "    [theme=dark] .colab-df-convert {\n",
              "      background-color: #3B4455;\n",
              "      fill: #D2E3FC;\n",
              "    }\n",
              "\n",
              "    [theme=dark] .colab-df-convert:hover {\n",
              "      background-color: #434B5C;\n",
              "      box-shadow: 0px 1px 3px 1px rgba(0, 0, 0, 0.15);\n",
              "      filter: drop-shadow(0px 1px 2px rgba(0, 0, 0, 0.3));\n",
              "      fill: #FFFFFF;\n",
              "    }\n",
              "  </style>\n",
              "\n",
              "      <script>\n",
              "        const buttonEl =\n",
              "          document.querySelector('#df-dcfcd4b4-6d66-4170-b412-ca3d40b2044a button.colab-df-convert');\n",
              "        buttonEl.style.display =\n",
              "          google.colab.kernel.accessAllowed ? 'block' : 'none';\n",
              "\n",
              "        async function convertToInteractive(key) {\n",
              "          const element = document.querySelector('#df-dcfcd4b4-6d66-4170-b412-ca3d40b2044a');\n",
              "          const dataTable =\n",
              "            await google.colab.kernel.invokeFunction('convertToInteractive',\n",
              "                                                     [key], {});\n",
              "          if (!dataTable) return;\n",
              "\n",
              "          const docLinkHtml = 'Like what you see? Visit the ' +\n",
              "            '<a target=\"_blank\" href=https://colab.research.google.com/notebooks/data_table.ipynb>data table notebook</a>'\n",
              "            + ' to learn more about interactive tables.';\n",
              "          element.innerHTML = '';\n",
              "          dataTable['output_type'] = 'display_data';\n",
              "          await google.colab.output.renderOutput(dataTable, element);\n",
              "          const docLink = document.createElement('div');\n",
              "          docLink.innerHTML = docLinkHtml;\n",
              "          element.appendChild(docLink);\n",
              "        }\n",
              "      </script>\n",
              "    </div>\n",
              "  </div>\n",
              "  "
            ]
          },
          "metadata": {},
          "execution_count": 142
        }
      ]
    },
    {
      "cell_type": "markdown",
      "source": [
        "Os anos com sufixo '.1' representam o valor de vendas em reais (R$), e os sem esse sufixo representam a quantidade em litros exportada"
      ],
      "metadata": {
        "id": "E99i4ZCyXygK"
      }
    },
    {
      "cell_type": "code",
      "source": [
        "df_completo_copy = df_completo.copy()\n",
        "colunas = df_completo_copy.columns"
      ],
      "metadata": {
        "id": "IES5RZmnsap0"
      },
      "execution_count": 143,
      "outputs": []
    },
    {
      "cell_type": "code",
      "source": [
        "cols_ponto = pd.Series(colunas.values).str.contains(r'\\.1').values"
      ],
      "metadata": {
        "id": "h2FhgPvAUuqI"
      },
      "execution_count": 144,
      "outputs": []
    },
    {
      "cell_type": "markdown",
      "source": [
        "### Vendas (US$) por País nos Últimos 15 anos\n"
      ],
      "metadata": {
        "id": "SBqsKay7OrRX"
      }
    },
    {
      "cell_type": "code",
      "source": [
        "cols_valor = colunas.values[cols_ponto][-15:]\n",
        "cols_valor = np.insert(cols_valor, 0, 'pais', axis=0)"
      ],
      "metadata": {
        "id": "-zzRE0sMPITX"
      },
      "execution_count": 145,
      "outputs": []
    },
    {
      "cell_type": "code",
      "source": [
        "df_valor = df_completo_copy[cols_valor]\n",
        "df_valor.columns = np.char.replace(df_valor.columns.values.astype(str), '.1','')\n",
        "df_valor.head()\n"
      ],
      "metadata": {
        "colab": {
          "base_uri": "https://localhost:8080/",
          "height": 206
        },
        "id": "uNke5fI1N-Sj",
        "outputId": "3d0a7cdd-17f2-4710-9238-548159f01145"
      },
      "execution_count": 146,
      "outputs": [
        {
          "output_type": "execute_result",
          "data": {
            "text/plain": [
              "                              pais    2007    2008    2009    2010    2011  \\\n",
              "0                      Afeganistão       0       0       0       0       0   \n",
              "1                    África do Sul       0       0       0       0       0   \n",
              "2  Alemanha, República Democrática  238052  429970  393482  138666  144150   \n",
              "3                           Angola   49753   71083   84235  189891   69001   \n",
              "4                         Anguilla       0       0       0       0       0   \n",
              "\n",
              "    2012    2013    2014   2015   2016   2017   2018   2019   2020  2021  \n",
              "0      0       0       0      0      0      0      0      0      0    46  \n",
              "1      0       0       0      0      0      0      0     95     21     0  \n",
              "2  56342  265978  761653  44780  68109  87702  45382  25467  32605  6741  \n",
              "3   8861    9300   23124  17089  35390  61680    709   1065      0     0  \n",
              "4      0       0       0      0      0      0      0      0      0     0  "
            ],
            "text/html": [
              "\n",
              "  <div id=\"df-02dc8328-ee65-4469-bb24-7ddeeb724aeb\">\n",
              "    <div class=\"colab-df-container\">\n",
              "      <div>\n",
              "<style scoped>\n",
              "    .dataframe tbody tr th:only-of-type {\n",
              "        vertical-align: middle;\n",
              "    }\n",
              "\n",
              "    .dataframe tbody tr th {\n",
              "        vertical-align: top;\n",
              "    }\n",
              "\n",
              "    .dataframe thead th {\n",
              "        text-align: right;\n",
              "    }\n",
              "</style>\n",
              "<table border=\"1\" class=\"dataframe\">\n",
              "  <thead>\n",
              "    <tr style=\"text-align: right;\">\n",
              "      <th></th>\n",
              "      <th>pais</th>\n",
              "      <th>2007</th>\n",
              "      <th>2008</th>\n",
              "      <th>2009</th>\n",
              "      <th>2010</th>\n",
              "      <th>2011</th>\n",
              "      <th>2012</th>\n",
              "      <th>2013</th>\n",
              "      <th>2014</th>\n",
              "      <th>2015</th>\n",
              "      <th>2016</th>\n",
              "      <th>2017</th>\n",
              "      <th>2018</th>\n",
              "      <th>2019</th>\n",
              "      <th>2020</th>\n",
              "      <th>2021</th>\n",
              "    </tr>\n",
              "  </thead>\n",
              "  <tbody>\n",
              "    <tr>\n",
              "      <th>0</th>\n",
              "      <td>Afeganistão</td>\n",
              "      <td>0</td>\n",
              "      <td>0</td>\n",
              "      <td>0</td>\n",
              "      <td>0</td>\n",
              "      <td>0</td>\n",
              "      <td>0</td>\n",
              "      <td>0</td>\n",
              "      <td>0</td>\n",
              "      <td>0</td>\n",
              "      <td>0</td>\n",
              "      <td>0</td>\n",
              "      <td>0</td>\n",
              "      <td>0</td>\n",
              "      <td>0</td>\n",
              "      <td>46</td>\n",
              "    </tr>\n",
              "    <tr>\n",
              "      <th>1</th>\n",
              "      <td>África do Sul</td>\n",
              "      <td>0</td>\n",
              "      <td>0</td>\n",
              "      <td>0</td>\n",
              "      <td>0</td>\n",
              "      <td>0</td>\n",
              "      <td>0</td>\n",
              "      <td>0</td>\n",
              "      <td>0</td>\n",
              "      <td>0</td>\n",
              "      <td>0</td>\n",
              "      <td>0</td>\n",
              "      <td>0</td>\n",
              "      <td>95</td>\n",
              "      <td>21</td>\n",
              "      <td>0</td>\n",
              "    </tr>\n",
              "    <tr>\n",
              "      <th>2</th>\n",
              "      <td>Alemanha, República Democrática</td>\n",
              "      <td>238052</td>\n",
              "      <td>429970</td>\n",
              "      <td>393482</td>\n",
              "      <td>138666</td>\n",
              "      <td>144150</td>\n",
              "      <td>56342</td>\n",
              "      <td>265978</td>\n",
              "      <td>761653</td>\n",
              "      <td>44780</td>\n",
              "      <td>68109</td>\n",
              "      <td>87702</td>\n",
              "      <td>45382</td>\n",
              "      <td>25467</td>\n",
              "      <td>32605</td>\n",
              "      <td>6741</td>\n",
              "    </tr>\n",
              "    <tr>\n",
              "      <th>3</th>\n",
              "      <td>Angola</td>\n",
              "      <td>49753</td>\n",
              "      <td>71083</td>\n",
              "      <td>84235</td>\n",
              "      <td>189891</td>\n",
              "      <td>69001</td>\n",
              "      <td>8861</td>\n",
              "      <td>9300</td>\n",
              "      <td>23124</td>\n",
              "      <td>17089</td>\n",
              "      <td>35390</td>\n",
              "      <td>61680</td>\n",
              "      <td>709</td>\n",
              "      <td>1065</td>\n",
              "      <td>0</td>\n",
              "      <td>0</td>\n",
              "    </tr>\n",
              "    <tr>\n",
              "      <th>4</th>\n",
              "      <td>Anguilla</td>\n",
              "      <td>0</td>\n",
              "      <td>0</td>\n",
              "      <td>0</td>\n",
              "      <td>0</td>\n",
              "      <td>0</td>\n",
              "      <td>0</td>\n",
              "      <td>0</td>\n",
              "      <td>0</td>\n",
              "      <td>0</td>\n",
              "      <td>0</td>\n",
              "      <td>0</td>\n",
              "      <td>0</td>\n",
              "      <td>0</td>\n",
              "      <td>0</td>\n",
              "      <td>0</td>\n",
              "    </tr>\n",
              "  </tbody>\n",
              "</table>\n",
              "</div>\n",
              "      <button class=\"colab-df-convert\" onclick=\"convertToInteractive('df-02dc8328-ee65-4469-bb24-7ddeeb724aeb')\"\n",
              "              title=\"Convert this dataframe to an interactive table.\"\n",
              "              style=\"display:none;\">\n",
              "        \n",
              "  <svg xmlns=\"http://www.w3.org/2000/svg\" height=\"24px\"viewBox=\"0 0 24 24\"\n",
              "       width=\"24px\">\n",
              "    <path d=\"M0 0h24v24H0V0z\" fill=\"none\"/>\n",
              "    <path d=\"M18.56 5.44l.94 2.06.94-2.06 2.06-.94-2.06-.94-.94-2.06-.94 2.06-2.06.94zm-11 1L8.5 8.5l.94-2.06 2.06-.94-2.06-.94L8.5 2.5l-.94 2.06-2.06.94zm10 10l.94 2.06.94-2.06 2.06-.94-2.06-.94-.94-2.06-.94 2.06-2.06.94z\"/><path d=\"M17.41 7.96l-1.37-1.37c-.4-.4-.92-.59-1.43-.59-.52 0-1.04.2-1.43.59L10.3 9.45l-7.72 7.72c-.78.78-.78 2.05 0 2.83L4 21.41c.39.39.9.59 1.41.59.51 0 1.02-.2 1.41-.59l7.78-7.78 2.81-2.81c.8-.78.8-2.07 0-2.86zM5.41 20L4 18.59l7.72-7.72 1.47 1.35L5.41 20z\"/>\n",
              "  </svg>\n",
              "      </button>\n",
              "      \n",
              "  <style>\n",
              "    .colab-df-container {\n",
              "      display:flex;\n",
              "      flex-wrap:wrap;\n",
              "      gap: 12px;\n",
              "    }\n",
              "\n",
              "    .colab-df-convert {\n",
              "      background-color: #E8F0FE;\n",
              "      border: none;\n",
              "      border-radius: 50%;\n",
              "      cursor: pointer;\n",
              "      display: none;\n",
              "      fill: #1967D2;\n",
              "      height: 32px;\n",
              "      padding: 0 0 0 0;\n",
              "      width: 32px;\n",
              "    }\n",
              "\n",
              "    .colab-df-convert:hover {\n",
              "      background-color: #E2EBFA;\n",
              "      box-shadow: 0px 1px 2px rgba(60, 64, 67, 0.3), 0px 1px 3px 1px rgba(60, 64, 67, 0.15);\n",
              "      fill: #174EA6;\n",
              "    }\n",
              "\n",
              "    [theme=dark] .colab-df-convert {\n",
              "      background-color: #3B4455;\n",
              "      fill: #D2E3FC;\n",
              "    }\n",
              "\n",
              "    [theme=dark] .colab-df-convert:hover {\n",
              "      background-color: #434B5C;\n",
              "      box-shadow: 0px 1px 3px 1px rgba(0, 0, 0, 0.15);\n",
              "      filter: drop-shadow(0px 1px 2px rgba(0, 0, 0, 0.3));\n",
              "      fill: #FFFFFF;\n",
              "    }\n",
              "  </style>\n",
              "\n",
              "      <script>\n",
              "        const buttonEl =\n",
              "          document.querySelector('#df-02dc8328-ee65-4469-bb24-7ddeeb724aeb button.colab-df-convert');\n",
              "        buttonEl.style.display =\n",
              "          google.colab.kernel.accessAllowed ? 'block' : 'none';\n",
              "\n",
              "        async function convertToInteractive(key) {\n",
              "          const element = document.querySelector('#df-02dc8328-ee65-4469-bb24-7ddeeb724aeb');\n",
              "          const dataTable =\n",
              "            await google.colab.kernel.invokeFunction('convertToInteractive',\n",
              "                                                     [key], {});\n",
              "          if (!dataTable) return;\n",
              "\n",
              "          const docLinkHtml = 'Like what you see? Visit the ' +\n",
              "            '<a target=\"_blank\" href=https://colab.research.google.com/notebooks/data_table.ipynb>data table notebook</a>'\n",
              "            + ' to learn more about interactive tables.';\n",
              "          element.innerHTML = '';\n",
              "          dataTable['output_type'] = 'display_data';\n",
              "          await google.colab.output.renderOutput(dataTable, element);\n",
              "          const docLink = document.createElement('div');\n",
              "          docLink.innerHTML = docLinkHtml;\n",
              "          element.appendChild(docLink);\n",
              "        }\n",
              "      </script>\n",
              "    </div>\n",
              "  </div>\n",
              "  "
            ]
          },
          "metadata": {},
          "execution_count": 146
        }
      ]
    },
    {
      "cell_type": "code",
      "source": [
        "df_valor_total = df_valor.set_index('pais')\n",
        "df_valor_total = df_valor_total.sum(axis=1)\n",
        "df_valor_total.rename('valor_total', inplace=True)"
      ],
      "metadata": {
        "id": "qNLGPsM_QHNm",
        "colab": {
          "base_uri": "https://localhost:8080/"
        },
        "outputId": "ef0e0e47-9fdf-4fa3-ed20-fec8cd796bc4"
      },
      "execution_count": 147,
      "outputs": [
        {
          "output_type": "execute_result",
          "data": {
            "text/plain": [
              "pais\n",
              "Afeganistão                             46\n",
              "África do Sul                          116\n",
              "Alemanha, República Democrática    2739079\n",
              "Angola                              621181\n",
              "Anguilla                                 0\n",
              "                                    ...   \n",
              "Tuvalu                                   4\n",
              "Uruguai                             222511\n",
              "Vanuatu                                 31\n",
              "Venezuela                            83847\n",
              "Vietnã                               12736\n",
              "Name: valor_total, Length: 124, dtype: int64"
            ]
          },
          "metadata": {},
          "execution_count": 147
        }
      ]
    },
    {
      "cell_type": "markdown",
      "source": [
        "### Quantidade Exportada por País nos Últimos 15 Anos"
      ],
      "metadata": {
        "id": "jLKcMOMAQAPV"
      }
    },
    {
      "cell_type": "code",
      "source": [
        "cols_quant = colunas.values[~cols_ponto][-15:]\n",
        "cols_quant = np.insert(cols_quant, 0, 'pais', axis=0)"
      ],
      "metadata": {
        "id": "Tjf8V7S6UUpl"
      },
      "execution_count": 148,
      "outputs": []
    },
    {
      "cell_type": "code",
      "source": [
        "df_quant = df_completo_copy[cols_quant]\n",
        "df_quant.head()"
      ],
      "metadata": {
        "colab": {
          "base_uri": "https://localhost:8080/",
          "height": 206
        },
        "id": "_omAS-0wtvX2",
        "outputId": "c3499bd5-bc80-4875-c2da-6a39e6dff276"
      },
      "execution_count": 149,
      "outputs": [
        {
          "output_type": "execute_result",
          "data": {
            "text/plain": [
              "                              pais    2007    2008    2009   2010   2011  \\\n",
              "0                      Afeganistão       0       0       0      0      0   \n",
              "1                    África do Sul       0       0       0      0      0   \n",
              "2  Alemanha, República Democrática  119512  265742  225086  27715  36070   \n",
              "3                           Angola   25931   25721   54786  33557  13889   \n",
              "4                         Anguilla       0       0       0      0      0   \n",
              "\n",
              "   2012   2013    2014   2015   2016   2017   2018  2019  2020  2021  \n",
              "0     0      0       0      0      0      0      0     0     0    11  \n",
              "1     0      0       0      0      0      0      0    26     4     0  \n",
              "2  8189  61699  213348  10680  14012  15467  10794  3660  6261  2698  \n",
              "3  2833   1573   12182   1908   7359  10170    477   345     0     0  \n",
              "4     0      0       0      0      0      0      0     0     0     0  "
            ],
            "text/html": [
              "\n",
              "  <div id=\"df-a8c9af7e-6d4a-4d83-8a59-22dfee705a4b\">\n",
              "    <div class=\"colab-df-container\">\n",
              "      <div>\n",
              "<style scoped>\n",
              "    .dataframe tbody tr th:only-of-type {\n",
              "        vertical-align: middle;\n",
              "    }\n",
              "\n",
              "    .dataframe tbody tr th {\n",
              "        vertical-align: top;\n",
              "    }\n",
              "\n",
              "    .dataframe thead th {\n",
              "        text-align: right;\n",
              "    }\n",
              "</style>\n",
              "<table border=\"1\" class=\"dataframe\">\n",
              "  <thead>\n",
              "    <tr style=\"text-align: right;\">\n",
              "      <th></th>\n",
              "      <th>pais</th>\n",
              "      <th>2007</th>\n",
              "      <th>2008</th>\n",
              "      <th>2009</th>\n",
              "      <th>2010</th>\n",
              "      <th>2011</th>\n",
              "      <th>2012</th>\n",
              "      <th>2013</th>\n",
              "      <th>2014</th>\n",
              "      <th>2015</th>\n",
              "      <th>2016</th>\n",
              "      <th>2017</th>\n",
              "      <th>2018</th>\n",
              "      <th>2019</th>\n",
              "      <th>2020</th>\n",
              "      <th>2021</th>\n",
              "    </tr>\n",
              "  </thead>\n",
              "  <tbody>\n",
              "    <tr>\n",
              "      <th>0</th>\n",
              "      <td>Afeganistão</td>\n",
              "      <td>0</td>\n",
              "      <td>0</td>\n",
              "      <td>0</td>\n",
              "      <td>0</td>\n",
              "      <td>0</td>\n",
              "      <td>0</td>\n",
              "      <td>0</td>\n",
              "      <td>0</td>\n",
              "      <td>0</td>\n",
              "      <td>0</td>\n",
              "      <td>0</td>\n",
              "      <td>0</td>\n",
              "      <td>0</td>\n",
              "      <td>0</td>\n",
              "      <td>11</td>\n",
              "    </tr>\n",
              "    <tr>\n",
              "      <th>1</th>\n",
              "      <td>África do Sul</td>\n",
              "      <td>0</td>\n",
              "      <td>0</td>\n",
              "      <td>0</td>\n",
              "      <td>0</td>\n",
              "      <td>0</td>\n",
              "      <td>0</td>\n",
              "      <td>0</td>\n",
              "      <td>0</td>\n",
              "      <td>0</td>\n",
              "      <td>0</td>\n",
              "      <td>0</td>\n",
              "      <td>0</td>\n",
              "      <td>26</td>\n",
              "      <td>4</td>\n",
              "      <td>0</td>\n",
              "    </tr>\n",
              "    <tr>\n",
              "      <th>2</th>\n",
              "      <td>Alemanha, República Democrática</td>\n",
              "      <td>119512</td>\n",
              "      <td>265742</td>\n",
              "      <td>225086</td>\n",
              "      <td>27715</td>\n",
              "      <td>36070</td>\n",
              "      <td>8189</td>\n",
              "      <td>61699</td>\n",
              "      <td>213348</td>\n",
              "      <td>10680</td>\n",
              "      <td>14012</td>\n",
              "      <td>15467</td>\n",
              "      <td>10794</td>\n",
              "      <td>3660</td>\n",
              "      <td>6261</td>\n",
              "      <td>2698</td>\n",
              "    </tr>\n",
              "    <tr>\n",
              "      <th>3</th>\n",
              "      <td>Angola</td>\n",
              "      <td>25931</td>\n",
              "      <td>25721</td>\n",
              "      <td>54786</td>\n",
              "      <td>33557</td>\n",
              "      <td>13889</td>\n",
              "      <td>2833</td>\n",
              "      <td>1573</td>\n",
              "      <td>12182</td>\n",
              "      <td>1908</td>\n",
              "      <td>7359</td>\n",
              "      <td>10170</td>\n",
              "      <td>477</td>\n",
              "      <td>345</td>\n",
              "      <td>0</td>\n",
              "      <td>0</td>\n",
              "    </tr>\n",
              "    <tr>\n",
              "      <th>4</th>\n",
              "      <td>Anguilla</td>\n",
              "      <td>0</td>\n",
              "      <td>0</td>\n",
              "      <td>0</td>\n",
              "      <td>0</td>\n",
              "      <td>0</td>\n",
              "      <td>0</td>\n",
              "      <td>0</td>\n",
              "      <td>0</td>\n",
              "      <td>0</td>\n",
              "      <td>0</td>\n",
              "      <td>0</td>\n",
              "      <td>0</td>\n",
              "      <td>0</td>\n",
              "      <td>0</td>\n",
              "      <td>0</td>\n",
              "    </tr>\n",
              "  </tbody>\n",
              "</table>\n",
              "</div>\n",
              "      <button class=\"colab-df-convert\" onclick=\"convertToInteractive('df-a8c9af7e-6d4a-4d83-8a59-22dfee705a4b')\"\n",
              "              title=\"Convert this dataframe to an interactive table.\"\n",
              "              style=\"display:none;\">\n",
              "        \n",
              "  <svg xmlns=\"http://www.w3.org/2000/svg\" height=\"24px\"viewBox=\"0 0 24 24\"\n",
              "       width=\"24px\">\n",
              "    <path d=\"M0 0h24v24H0V0z\" fill=\"none\"/>\n",
              "    <path d=\"M18.56 5.44l.94 2.06.94-2.06 2.06-.94-2.06-.94-.94-2.06-.94 2.06-2.06.94zm-11 1L8.5 8.5l.94-2.06 2.06-.94-2.06-.94L8.5 2.5l-.94 2.06-2.06.94zm10 10l.94 2.06.94-2.06 2.06-.94-2.06-.94-.94-2.06-.94 2.06-2.06.94z\"/><path d=\"M17.41 7.96l-1.37-1.37c-.4-.4-.92-.59-1.43-.59-.52 0-1.04.2-1.43.59L10.3 9.45l-7.72 7.72c-.78.78-.78 2.05 0 2.83L4 21.41c.39.39.9.59 1.41.59.51 0 1.02-.2 1.41-.59l7.78-7.78 2.81-2.81c.8-.78.8-2.07 0-2.86zM5.41 20L4 18.59l7.72-7.72 1.47 1.35L5.41 20z\"/>\n",
              "  </svg>\n",
              "      </button>\n",
              "      \n",
              "  <style>\n",
              "    .colab-df-container {\n",
              "      display:flex;\n",
              "      flex-wrap:wrap;\n",
              "      gap: 12px;\n",
              "    }\n",
              "\n",
              "    .colab-df-convert {\n",
              "      background-color: #E8F0FE;\n",
              "      border: none;\n",
              "      border-radius: 50%;\n",
              "      cursor: pointer;\n",
              "      display: none;\n",
              "      fill: #1967D2;\n",
              "      height: 32px;\n",
              "      padding: 0 0 0 0;\n",
              "      width: 32px;\n",
              "    }\n",
              "\n",
              "    .colab-df-convert:hover {\n",
              "      background-color: #E2EBFA;\n",
              "      box-shadow: 0px 1px 2px rgba(60, 64, 67, 0.3), 0px 1px 3px 1px rgba(60, 64, 67, 0.15);\n",
              "      fill: #174EA6;\n",
              "    }\n",
              "\n",
              "    [theme=dark] .colab-df-convert {\n",
              "      background-color: #3B4455;\n",
              "      fill: #D2E3FC;\n",
              "    }\n",
              "\n",
              "    [theme=dark] .colab-df-convert:hover {\n",
              "      background-color: #434B5C;\n",
              "      box-shadow: 0px 1px 3px 1px rgba(0, 0, 0, 0.15);\n",
              "      filter: drop-shadow(0px 1px 2px rgba(0, 0, 0, 0.3));\n",
              "      fill: #FFFFFF;\n",
              "    }\n",
              "  </style>\n",
              "\n",
              "      <script>\n",
              "        const buttonEl =\n",
              "          document.querySelector('#df-a8c9af7e-6d4a-4d83-8a59-22dfee705a4b button.colab-df-convert');\n",
              "        buttonEl.style.display =\n",
              "          google.colab.kernel.accessAllowed ? 'block' : 'none';\n",
              "\n",
              "        async function convertToInteractive(key) {\n",
              "          const element = document.querySelector('#df-a8c9af7e-6d4a-4d83-8a59-22dfee705a4b');\n",
              "          const dataTable =\n",
              "            await google.colab.kernel.invokeFunction('convertToInteractive',\n",
              "                                                     [key], {});\n",
              "          if (!dataTable) return;\n",
              "\n",
              "          const docLinkHtml = 'Like what you see? Visit the ' +\n",
              "            '<a target=\"_blank\" href=https://colab.research.google.com/notebooks/data_table.ipynb>data table notebook</a>'\n",
              "            + ' to learn more about interactive tables.';\n",
              "          element.innerHTML = '';\n",
              "          dataTable['output_type'] = 'display_data';\n",
              "          await google.colab.output.renderOutput(dataTable, element);\n",
              "          const docLink = document.createElement('div');\n",
              "          docLink.innerHTML = docLinkHtml;\n",
              "          element.appendChild(docLink);\n",
              "        }\n",
              "      </script>\n",
              "    </div>\n",
              "  </div>\n",
              "  "
            ]
          },
          "metadata": {},
          "execution_count": 149
        }
      ]
    },
    {
      "cell_type": "code",
      "source": [
        "df_quant_total = df_quant.set_index('pais')\n",
        "df_quant_total = df_quant_total.sum(axis=1)\n",
        "df_quant_total.rename('quant_total', inplace=True)"
      ],
      "metadata": {
        "id": "0qi2UmmEYBRl",
        "colab": {
          "base_uri": "https://localhost:8080/"
        },
        "outputId": "d9d7b748-f589-4692-d3da-faef93b61240"
      },
      "execution_count": 150,
      "outputs": [
        {
          "output_type": "execute_result",
          "data": {
            "text/plain": [
              "pais\n",
              "Afeganistão                             11\n",
              "África do Sul                           30\n",
              "Alemanha, República Democrática    1020933\n",
              "Angola                              190731\n",
              "Anguilla                                 0\n",
              "                                    ...   \n",
              "Tuvalu                                   2\n",
              "Uruguai                             155478\n",
              "Vanuatu                                 18\n",
              "Venezuela                            52995\n",
              "Vietnã                                9669\n",
              "Name: quant_total, Length: 124, dtype: int64"
            ]
          },
          "metadata": {},
          "execution_count": 150
        }
      ]
    },
    {
      "cell_type": "markdown",
      "source": [
        "### Total por País dos Útlimos 15 Anos"
      ],
      "metadata": {
        "id": "YIED3jGHYPB3"
      }
    },
    {
      "cell_type": "code",
      "source": [
        "df_totais = df_valor_total.to_frame().reset_index()\n",
        "df_totais.insert(0, 'exportador', 'Brasil')\n",
        "df_totais = df_totais.merge(df_quant_total, left_on='pais', right_index=True)\n",
        "df_totais"
      ],
      "metadata": {
        "colab": {
          "base_uri": "https://localhost:8080/",
          "height": 424
        },
        "id": "Sl4l2dEnYOOk",
        "outputId": "2bfb4041-578b-4c3f-d305-b62005f5114b"
      },
      "execution_count": 151,
      "outputs": [
        {
          "output_type": "execute_result",
          "data": {
            "text/plain": [
              "    exportador                             pais  valor_total  quant_total\n",
              "0       Brasil                      Afeganistão           46           11\n",
              "1       Brasil                    África do Sul          116           30\n",
              "2       Brasil  Alemanha, República Democrática      2739079      1020933\n",
              "3       Brasil                           Angola       621181       190731\n",
              "4       Brasil                         Anguilla            0            0\n",
              "..         ...                              ...          ...          ...\n",
              "119     Brasil                           Tuvalu            4            2\n",
              "120     Brasil                          Uruguai       222511       155478\n",
              "121     Brasil                          Vanuatu           31           18\n",
              "122     Brasil                        Venezuela        83847        52995\n",
              "123     Brasil                           Vietnã        12736         9669\n",
              "\n",
              "[124 rows x 4 columns]"
            ],
            "text/html": [
              "\n",
              "  <div id=\"df-825d5a9c-faee-4a50-b305-e9a6ec15c9b9\">\n",
              "    <div class=\"colab-df-container\">\n",
              "      <div>\n",
              "<style scoped>\n",
              "    .dataframe tbody tr th:only-of-type {\n",
              "        vertical-align: middle;\n",
              "    }\n",
              "\n",
              "    .dataframe tbody tr th {\n",
              "        vertical-align: top;\n",
              "    }\n",
              "\n",
              "    .dataframe thead th {\n",
              "        text-align: right;\n",
              "    }\n",
              "</style>\n",
              "<table border=\"1\" class=\"dataframe\">\n",
              "  <thead>\n",
              "    <tr style=\"text-align: right;\">\n",
              "      <th></th>\n",
              "      <th>exportador</th>\n",
              "      <th>pais</th>\n",
              "      <th>valor_total</th>\n",
              "      <th>quant_total</th>\n",
              "    </tr>\n",
              "  </thead>\n",
              "  <tbody>\n",
              "    <tr>\n",
              "      <th>0</th>\n",
              "      <td>Brasil</td>\n",
              "      <td>Afeganistão</td>\n",
              "      <td>46</td>\n",
              "      <td>11</td>\n",
              "    </tr>\n",
              "    <tr>\n",
              "      <th>1</th>\n",
              "      <td>Brasil</td>\n",
              "      <td>África do Sul</td>\n",
              "      <td>116</td>\n",
              "      <td>30</td>\n",
              "    </tr>\n",
              "    <tr>\n",
              "      <th>2</th>\n",
              "      <td>Brasil</td>\n",
              "      <td>Alemanha, República Democrática</td>\n",
              "      <td>2739079</td>\n",
              "      <td>1020933</td>\n",
              "    </tr>\n",
              "    <tr>\n",
              "      <th>3</th>\n",
              "      <td>Brasil</td>\n",
              "      <td>Angola</td>\n",
              "      <td>621181</td>\n",
              "      <td>190731</td>\n",
              "    </tr>\n",
              "    <tr>\n",
              "      <th>4</th>\n",
              "      <td>Brasil</td>\n",
              "      <td>Anguilla</td>\n",
              "      <td>0</td>\n",
              "      <td>0</td>\n",
              "    </tr>\n",
              "    <tr>\n",
              "      <th>...</th>\n",
              "      <td>...</td>\n",
              "      <td>...</td>\n",
              "      <td>...</td>\n",
              "      <td>...</td>\n",
              "    </tr>\n",
              "    <tr>\n",
              "      <th>119</th>\n",
              "      <td>Brasil</td>\n",
              "      <td>Tuvalu</td>\n",
              "      <td>4</td>\n",
              "      <td>2</td>\n",
              "    </tr>\n",
              "    <tr>\n",
              "      <th>120</th>\n",
              "      <td>Brasil</td>\n",
              "      <td>Uruguai</td>\n",
              "      <td>222511</td>\n",
              "      <td>155478</td>\n",
              "    </tr>\n",
              "    <tr>\n",
              "      <th>121</th>\n",
              "      <td>Brasil</td>\n",
              "      <td>Vanuatu</td>\n",
              "      <td>31</td>\n",
              "      <td>18</td>\n",
              "    </tr>\n",
              "    <tr>\n",
              "      <th>122</th>\n",
              "      <td>Brasil</td>\n",
              "      <td>Venezuela</td>\n",
              "      <td>83847</td>\n",
              "      <td>52995</td>\n",
              "    </tr>\n",
              "    <tr>\n",
              "      <th>123</th>\n",
              "      <td>Brasil</td>\n",
              "      <td>Vietnã</td>\n",
              "      <td>12736</td>\n",
              "      <td>9669</td>\n",
              "    </tr>\n",
              "  </tbody>\n",
              "</table>\n",
              "<p>124 rows × 4 columns</p>\n",
              "</div>\n",
              "      <button class=\"colab-df-convert\" onclick=\"convertToInteractive('df-825d5a9c-faee-4a50-b305-e9a6ec15c9b9')\"\n",
              "              title=\"Convert this dataframe to an interactive table.\"\n",
              "              style=\"display:none;\">\n",
              "        \n",
              "  <svg xmlns=\"http://www.w3.org/2000/svg\" height=\"24px\"viewBox=\"0 0 24 24\"\n",
              "       width=\"24px\">\n",
              "    <path d=\"M0 0h24v24H0V0z\" fill=\"none\"/>\n",
              "    <path d=\"M18.56 5.44l.94 2.06.94-2.06 2.06-.94-2.06-.94-.94-2.06-.94 2.06-2.06.94zm-11 1L8.5 8.5l.94-2.06 2.06-.94-2.06-.94L8.5 2.5l-.94 2.06-2.06.94zm10 10l.94 2.06.94-2.06 2.06-.94-2.06-.94-.94-2.06-.94 2.06-2.06.94z\"/><path d=\"M17.41 7.96l-1.37-1.37c-.4-.4-.92-.59-1.43-.59-.52 0-1.04.2-1.43.59L10.3 9.45l-7.72 7.72c-.78.78-.78 2.05 0 2.83L4 21.41c.39.39.9.59 1.41.59.51 0 1.02-.2 1.41-.59l7.78-7.78 2.81-2.81c.8-.78.8-2.07 0-2.86zM5.41 20L4 18.59l7.72-7.72 1.47 1.35L5.41 20z\"/>\n",
              "  </svg>\n",
              "      </button>\n",
              "      \n",
              "  <style>\n",
              "    .colab-df-container {\n",
              "      display:flex;\n",
              "      flex-wrap:wrap;\n",
              "      gap: 12px;\n",
              "    }\n",
              "\n",
              "    .colab-df-convert {\n",
              "      background-color: #E8F0FE;\n",
              "      border: none;\n",
              "      border-radius: 50%;\n",
              "      cursor: pointer;\n",
              "      display: none;\n",
              "      fill: #1967D2;\n",
              "      height: 32px;\n",
              "      padding: 0 0 0 0;\n",
              "      width: 32px;\n",
              "    }\n",
              "\n",
              "    .colab-df-convert:hover {\n",
              "      background-color: #E2EBFA;\n",
              "      box-shadow: 0px 1px 2px rgba(60, 64, 67, 0.3), 0px 1px 3px 1px rgba(60, 64, 67, 0.15);\n",
              "      fill: #174EA6;\n",
              "    }\n",
              "\n",
              "    [theme=dark] .colab-df-convert {\n",
              "      background-color: #3B4455;\n",
              "      fill: #D2E3FC;\n",
              "    }\n",
              "\n",
              "    [theme=dark] .colab-df-convert:hover {\n",
              "      background-color: #434B5C;\n",
              "      box-shadow: 0px 1px 3px 1px rgba(0, 0, 0, 0.15);\n",
              "      filter: drop-shadow(0px 1px 2px rgba(0, 0, 0, 0.3));\n",
              "      fill: #FFFFFF;\n",
              "    }\n",
              "  </style>\n",
              "\n",
              "      <script>\n",
              "        const buttonEl =\n",
              "          document.querySelector('#df-825d5a9c-faee-4a50-b305-e9a6ec15c9b9 button.colab-df-convert');\n",
              "        buttonEl.style.display =\n",
              "          google.colab.kernel.accessAllowed ? 'block' : 'none';\n",
              "\n",
              "        async function convertToInteractive(key) {\n",
              "          const element = document.querySelector('#df-825d5a9c-faee-4a50-b305-e9a6ec15c9b9');\n",
              "          const dataTable =\n",
              "            await google.colab.kernel.invokeFunction('convertToInteractive',\n",
              "                                                     [key], {});\n",
              "          if (!dataTable) return;\n",
              "\n",
              "          const docLinkHtml = 'Like what you see? Visit the ' +\n",
              "            '<a target=\"_blank\" href=https://colab.research.google.com/notebooks/data_table.ipynb>data table notebook</a>'\n",
              "            + ' to learn more about interactive tables.';\n",
              "          element.innerHTML = '';\n",
              "          dataTable['output_type'] = 'display_data';\n",
              "          await google.colab.output.renderOutput(dataTable, element);\n",
              "          const docLink = document.createElement('div');\n",
              "          docLink.innerHTML = docLinkHtml;\n",
              "          element.appendChild(docLink);\n",
              "        }\n",
              "      </script>\n",
              "    </div>\n",
              "  </div>\n",
              "  "
            ]
          },
          "metadata": {},
          "execution_count": 151
        }
      ]
    },
    {
      "cell_type": "markdown",
      "source": [
        "## Análises"
      ],
      "metadata": {
        "id": "ePB6sSx89Nwa"
      }
    },
    {
      "cell_type": "markdown",
      "source": [
        "### Países importadores"
      ],
      "metadata": {
        "id": "GpHKMeLAbefc"
      }
    },
    {
      "cell_type": "code",
      "source": [
        "df_totais.shape"
      ],
      "metadata": {
        "colab": {
          "base_uri": "https://localhost:8080/"
        },
        "id": "6VGbDamSdvpP",
        "outputId": "b8614209-f63d-4b3e-b001-da9a79c610d0"
      },
      "execution_count": 152,
      "outputs": [
        {
          "output_type": "execute_result",
          "data": {
            "text/plain": [
              "(124, 4)"
            ]
          },
          "metadata": {},
          "execution_count": 152
        }
      ]
    },
    {
      "cell_type": "code",
      "source": [
        "df_quant_total[df_quant_total > 0].count()"
      ],
      "metadata": {
        "colab": {
          "base_uri": "https://localhost:8080/"
        },
        "id": "LUhq9MmjeAQz",
        "outputId": "51259d3a-d5eb-447b-cb0b-d144e5b125a1"
      },
      "execution_count": 153,
      "outputs": [
        {
          "output_type": "execute_result",
          "data": {
            "text/plain": [
              "114"
            ]
          },
          "metadata": {},
          "execution_count": 153
        }
      ]
    },
    {
      "cell_type": "markdown",
      "source": [
        "Existem 124 países registrados na base, onde, durante o período de 15 anos, 114 deles já importaram vinho ao menos uma vez."
      ],
      "metadata": {
        "id": "epMqbLZId16F"
      }
    },
    {
      "cell_type": "code",
      "source": [
        "df_quant_util:pd.DataFrame = df_quant.copy()\n",
        "df_quant_util.drop(columns='pais', inplace=True)\n",
        "df_quant_util = df_quant_util.T\n",
        "\n",
        "for col in df_quant_util.columns.values:\n",
        "  df_quant_util.loc[(df_quant_util[col] > 0), col] = 1\n",
        "\n",
        "df_quant_util['total'] = df_quant_util.sum(axis=1)"
      ],
      "metadata": {
        "id": "5nKELY9G9NdR"
      },
      "execution_count": 154,
      "outputs": []
    },
    {
      "cell_type": "code",
      "source": [
        "df_quant_util.loc[:, 'total'].max()"
      ],
      "metadata": {
        "colab": {
          "base_uri": "https://localhost:8080/"
        },
        "id": "csBrTW1qeZZ2",
        "outputId": "efb12966-7f0c-4eac-9836-06f71db86b24"
      },
      "execution_count": 155,
      "outputs": [
        {
          "output_type": "execute_result",
          "data": {
            "text/plain": [
              "74"
            ]
          },
          "metadata": {},
          "execution_count": 155
        }
      ]
    },
    {
      "cell_type": "markdown",
      "source": [
        "O máximo de países atendidos em um ano foi de 74"
      ],
      "metadata": {
        "id": "fxt20ZeOepuW"
      }
    },
    {
      "cell_type": "code",
      "source": [
        "eixo_x = df_quant_util.index\n",
        "eixo_y = df_quant_util['total']\n",
        "sns.set_theme(style=\"darkgrid\")\n",
        "graf_1 = sns.lineplot(x=eixo_x, y=eixo_y)\n",
        "plt.xticks(rotation=45)\n",
        "graf_1.set(xlabel=\"ano\", ylabel=\"quantidade de países\", title=\"Quantidade de países importadores por ano\")"
      ],
      "metadata": {
        "colab": {
          "base_uri": "https://localhost:8080/",
          "height": 558
        },
        "id": "p_wDTZ5M-ucH",
        "outputId": "b2a1497f-c4f1-4cdf-aed1-f1b36912254e"
      },
      "execution_count": 156,
      "outputs": [
        {
          "output_type": "execute_result",
          "data": {
            "text/plain": [
              "[Text(0.5, 0, 'ano'),\n",
              " Text(0, 0.5, 'quantidade de países'),\n",
              " Text(0.5, 1.0, 'Quantidade de países importadores por ano')]"
            ]
          },
          "metadata": {},
          "execution_count": 156
        },
        {
          "output_type": "display_data",
          "data": {
            "text/plain": [
              "<Figure size 640x480 with 1 Axes>"
            ],
            "image/png": "[encoded data removed]"
          },
          "metadata": {}
        }
      ]
    },
    {
      "cell_type": "code",
      "source": [
        "aumento_4_anos = df_quant_util.loc['2021', 'total'] - df_quant_util.loc['2017', 'total']\n",
        "aumento_4_anos"
      ],
      "metadata": {
        "colab": {
          "base_uri": "https://localhost:8080/"
        },
        "id": "QdKJTTSwfeCa",
        "outputId": "38c1d8cb-7f37-4ca1-d4c8-dd1047b41fb6"
      },
      "execution_count": 157,
      "outputs": [
        {
          "output_type": "execute_result",
          "data": {
            "text/plain": [
              "40"
            ]
          },
          "metadata": {},
          "execution_count": 157
        }
      ]
    },
    {
      "cell_type": "code",
      "source": [
        "aumento_paises = aumento_4_anos / df_quant_util.loc['2017', 'total'] * 100\n",
        "f'{aumento_paises:.2f}%'"
      ],
      "metadata": {
        "colab": {
          "base_uri": "https://localhost:8080/",
          "height": 35
        },
        "id": "5htN2z2pU3PG",
        "outputId": "1b07bb1b-c842-43cc-9461-f3772cdfb11a"
      },
      "execution_count": 158,
      "outputs": [
        {
          "output_type": "execute_result",
          "data": {
            "text/plain": [
              "'117.65%'"
            ],
            "application/vnd.google.colaboratory.intrinsic+json": {
              "type": "string"
            }
          },
          "metadata": {},
          "execution_count": 158
        }
      ]
    },
    {
      "cell_type": "markdown",
      "source": [
        "De 2017 até 2021 houve um aumento de 40 países que importam vinho. Isso representa um aumento de 117,65% em um período de 4 anos"
      ],
      "metadata": {
        "id": "Rn9JaLP4WZgH"
      }
    },
    {
      "cell_type": "markdown",
      "source": [
        "### Quantidade de Exportações"
      ],
      "metadata": {
        "id": "ZHAtlv7EfyFb"
      }
    },
    {
      "cell_type": "code",
      "source": [
        "df_quant_g = df_quant.copy()\n",
        "df_quant_g.drop(columns='pais', inplace=True)\n",
        "df_quant_g = df_quant_g.T\n",
        "\n",
        "df_quant_g['total'] = df_quant_g.sum(axis=1)"
      ],
      "metadata": {
        "id": "RJHYKADMDqka"
      },
      "execution_count": 159,
      "outputs": []
    },
    {
      "cell_type": "code",
      "source": [
        "eixo_x = df_quant_g.index\n",
        "eixo_y = df_quant_g['total'] / 1_000_000\n",
        "graf_2 = sns.lineplot(data=df_quant_g, x=eixo_x, y=eixo_y)\n",
        "plt.xticks(rotation=45)\n",
        "graf_2.set(xlabel=\"ano\", ylabel=\"Litros exportados (em milhões)\", title=\"Quantidade de Litros Exportados por Ano\")"
      ],
      "metadata": {
        "colab": {
          "base_uri": "https://localhost:8080/",
          "height": 557
        },
        "id": "EwNqXAJXEXbP",
        "outputId": "1ae1147d-3282-4ff6-eb99-adefbf892f17"
      },
      "execution_count": 160,
      "outputs": [
        {
          "output_type": "execute_result",
          "data": {
            "text/plain": [
              "[Text(0.5, 0, 'ano'),\n",
              " Text(0, 0.5, 'Litros exportados (em milhões)'),\n",
              " Text(0.5, 1.0, 'Quantidade de Litros Exportados por Ano')]"
            ]
          },
          "metadata": {},
          "execution_count": 160
        },
        {
          "output_type": "display_data",
          "data": {
            "text/plain": [
              "<Figure size 640x480 with 1 Axes>"
            ],
            "image/png": "[encoded data removed]"
          },
          "metadata": {}
        }
      ]
    },
    {
      "cell_type": "code",
      "source": [
        "df_valor_g = df_valor.copy()\n",
        "df_valor_g.drop(columns='pais', inplace=True)\n",
        "df_valor_g = df_valor_g.T\n",
        "\n",
        "df_valor_g['total'] = df_valor_g.sum(axis=1)"
      ],
      "metadata": {
        "id": "UmwubNDDFqBf"
      },
      "execution_count": 161,
      "outputs": []
    },
    {
      "cell_type": "code",
      "source": [
        "eixo_x_v = df_valor_g.index\n",
        "eixo_y_v = df_valor_g['total'] / 1_000_000\n",
        "graf_2 = sns.lineplot(data=df_valor_g, x=eixo_x_v, y=eixo_y_v)\n",
        "graf_2.set_xticklabels(labels=graf_2.get_xticklabels(), rotation=45)\n",
        "graf_2.set(xlabel=\"ano\", ylabel=\"Vendas em milhões de doláres\", title=\"US$ de exportação por Ano\")"
      ],
      "metadata": {
        "colab": {
          "base_uri": "https://localhost:8080/",
          "height": 592
        },
        "id": "4ALCcWERF0tj",
        "outputId": "cd5cc4d3-58d0-4bdf-f829-d7cdc0030351"
      },
      "execution_count": 162,
      "outputs": [
        {
          "output_type": "stream",
          "name": "stderr",
          "text": [
            "<ipython-input-162-e3a7b545aa51>:4: UserWarning: FixedFormatter should only be used together with FixedLocator\n",
            "  graf_2.set_xticklabels(labels=graf_2.get_xticklabels(), rotation=45)\n"
          ]
        },
        {
          "output_type": "execute_result",
          "data": {
            "text/plain": [
              "[Text(0.5, 0, 'ano'),\n",
              " Text(0, 0.5, 'Vendas em milhões de doláres'),\n",
              " Text(0.5, 1.0, 'US$ de exportação por Ano')]"
            ]
          },
          "metadata": {},
          "execution_count": 162
        },
        {
          "output_type": "display_data",
          "data": {
            "text/plain": [
              "<Figure size 640x480 with 1 Axes>"
            ],
            "image/png": "[encoded data removed]"
          },
          "metadata": {}
        }
      ]
    },
    {
      "cell_type": "markdown",
      "source": [
        "### Proporcionalidade por ano"
      ],
      "metadata": {
        "id": "pK8MmgrFb1-l"
      }
    },
    {
      "cell_type": "code",
      "source": [
        "#Verificar os paises que fizeram compras nos anos, e a quantidade de compras que fizeram nos ultimos 15 anos\n",
        "df_ca = df_valor.copy().set_index('pais')\n",
        "df_ca_util = df_ca.loc[(df_valor_total > 0).index.values,:]\n",
        "df_ca_util = df_ca_util.T\n",
        "for col in df_ca_util.columns.values:\n",
        "  df_ca_util.loc[(df_ca_util[col] > 0), col] = 1\n",
        "\n",
        "df_ca_util = df_ca_util.T\n",
        "df_ca_util['quant_compras'] = df_ca_util.sum(axis=1)\n",
        "df_ca_util.sort_values('quant_compras', ascending=False, inplace=True)\n",
        "df_ca_util.reset_index(inplace=True)\n",
        "df_ca_util = df_ca_util[df_ca_util['quant_compras']>0]"
      ],
      "metadata": {
        "id": "M-Ki6kPLJlTg"
      },
      "execution_count": 163,
      "outputs": []
    },
    {
      "cell_type": "code",
      "source": [
        "#Proporcionalidade entre a quantidade de compras nos últimos 15 anos com o valor total e a quantidade em litros importada por país\n",
        "df_prop_ano = df_ca_util.merge(df_valor_total, left_on='pais', how='left', right_index=True)\n",
        "df_prop_ano = df_prop_ano.merge(df_quant_total, left_on='pais', how='left', right_index=True)\n",
        "df_prop_ano = df_prop_ano.loc[:,['pais', 'quant_compras', 'valor_total', 'quant_total']]\n",
        "df_prop_ano['valor_prop'] = df_prop_ano['valor_total'] / df_prop_ano['quant_compras']\n",
        "df_prop_ano['quant_prop'] = df_prop_ano['quant_total'] / df_prop_ano['quant_compras']\n",
        "df_prop_ano['pais'] = df_prop_ano['pais'].replace(', República Democrática', '', regex=True)"
      ],
      "metadata": {
        "id": "DgaR3XxXTLtK"
      },
      "execution_count": 164,
      "outputs": []
    },
    {
      "cell_type": "code",
      "source": [
        "df_prop_ano_valor = df_prop_ano[['pais', 'valor_prop']]\n",
        "df_prop_ano_valor = df_prop_ano_valor.sort_values('valor_prop', ascending=False).head(10).round(decimals=0)\n",
        "df_prop_ano_valor"
      ],
      "metadata": {
        "colab": {
          "base_uri": "https://localhost:8080/",
          "height": 363
        },
        "id": "9A-VCFaZTiqH",
        "outputId": "b3e3911f-cd95-41cb-f8b5-b2dc6b5fb240"
      },
      "execution_count": 165,
      "outputs": [
        {
          "output_type": "execute_result",
          "data": {
            "text/plain": [
              "              pais  valor_prop\n",
              "31          Rússia   2839892.0\n",
              "1         Paraguai   2157617.0\n",
              "6   Estados Unidos    669781.0\n",
              "41         Espanha    544079.0\n",
              "2      Reino Unido    314504.0\n",
              "11   Países Baixos    294223.0\n",
              "7            China    291485.0\n",
              "37           Haiti    226599.0\n",
              "8         Alemanha    182605.0\n",
              "3            Japão    174158.0"
            ],
            "text/html": [
              "\n",
              "  <div id=\"df-20dc666b-2a91-46aa-9af3-fe54cea3b82b\">\n",
              "    <div class=\"colab-df-container\">\n",
              "      <div>\n",
              "<style scoped>\n",
              "    .dataframe tbody tr th:only-of-type {\n",
              "        vertical-align: middle;\n",
              "    }\n",
              "\n",
              "    .dataframe tbody tr th {\n",
              "        vertical-align: top;\n",
              "    }\n",
              "\n",
              "    .dataframe thead th {\n",
              "        text-align: right;\n",
              "    }\n",
              "</style>\n",
              "<table border=\"1\" class=\"dataframe\">\n",
              "  <thead>\n",
              "    <tr style=\"text-align: right;\">\n",
              "      <th></th>\n",
              "      <th>pais</th>\n",
              "      <th>valor_prop</th>\n",
              "    </tr>\n",
              "  </thead>\n",
              "  <tbody>\n",
              "    <tr>\n",
              "      <th>31</th>\n",
              "      <td>Rússia</td>\n",
              "      <td>2839892.0</td>\n",
              "    </tr>\n",
              "    <tr>\n",
              "      <th>1</th>\n",
              "      <td>Paraguai</td>\n",
              "      <td>2157617.0</td>\n",
              "    </tr>\n",
              "    <tr>\n",
              "      <th>6</th>\n",
              "      <td>Estados Unidos</td>\n",
              "      <td>669781.0</td>\n",
              "    </tr>\n",
              "    <tr>\n",
              "      <th>41</th>\n",
              "      <td>Espanha</td>\n",
              "      <td>544079.0</td>\n",
              "    </tr>\n",
              "    <tr>\n",
              "      <th>2</th>\n",
              "      <td>Reino Unido</td>\n",
              "      <td>314504.0</td>\n",
              "    </tr>\n",
              "    <tr>\n",
              "      <th>11</th>\n",
              "      <td>Países Baixos</td>\n",
              "      <td>294223.0</td>\n",
              "    </tr>\n",
              "    <tr>\n",
              "      <th>7</th>\n",
              "      <td>China</td>\n",
              "      <td>291485.0</td>\n",
              "    </tr>\n",
              "    <tr>\n",
              "      <th>37</th>\n",
              "      <td>Haiti</td>\n",
              "      <td>226599.0</td>\n",
              "    </tr>\n",
              "    <tr>\n",
              "      <th>8</th>\n",
              "      <td>Alemanha</td>\n",
              "      <td>182605.0</td>\n",
              "    </tr>\n",
              "    <tr>\n",
              "      <th>3</th>\n",
              "      <td>Japão</td>\n",
              "      <td>174158.0</td>\n",
              "    </tr>\n",
              "  </tbody>\n",
              "</table>\n",
              "</div>\n",
              "      <button class=\"colab-df-convert\" onclick=\"convertToInteractive('df-20dc666b-2a91-46aa-9af3-fe54cea3b82b')\"\n",
              "              title=\"Convert this dataframe to an interactive table.\"\n",
              "              style=\"display:none;\">\n",
              "        \n",
              "  <svg xmlns=\"http://www.w3.org/2000/svg\" height=\"24px\"viewBox=\"0 0 24 24\"\n",
              "       width=\"24px\">\n",
              "    <path d=\"M0 0h24v24H0V0z\" fill=\"none\"/>\n",
              "    <path d=\"M18.56 5.44l.94 2.06.94-2.06 2.06-.94-2.06-.94-.94-2.06-.94 2.06-2.06.94zm-11 1L8.5 8.5l.94-2.06 2.06-.94-2.06-.94L8.5 2.5l-.94 2.06-2.06.94zm10 10l.94 2.06.94-2.06 2.06-.94-2.06-.94-.94-2.06-.94 2.06-2.06.94z\"/><path d=\"M17.41 7.96l-1.37-1.37c-.4-.4-.92-.59-1.43-.59-.52 0-1.04.2-1.43.59L10.3 9.45l-7.72 7.72c-.78.78-.78 2.05 0 2.83L4 21.41c.39.39.9.59 1.41.59.51 0 1.02-.2 1.41-.59l7.78-7.78 2.81-2.81c.8-.78.8-2.07 0-2.86zM5.41 20L4 18.59l7.72-7.72 1.47 1.35L5.41 20z\"/>\n",
              "  </svg>\n",
              "      </button>\n",
              "      \n",
              "  <style>\n",
              "    .colab-df-container {\n",
              "      display:flex;\n",
              "      flex-wrap:wrap;\n",
              "      gap: 12px;\n",
              "    }\n",
              "\n",
              "    .colab-df-convert {\n",
              "      background-color: #E8F0FE;\n",
              "      border: none;\n",
              "      border-radius: 50%;\n",
              "      cursor: pointer;\n",
              "      display: none;\n",
              "      fill: #1967D2;\n",
              "      height: 32px;\n",
              "      padding: 0 0 0 0;\n",
              "      width: 32px;\n",
              "    }\n",
              "\n",
              "    .colab-df-convert:hover {\n",
              "      background-color: #E2EBFA;\n",
              "      box-shadow: 0px 1px 2px rgba(60, 64, 67, 0.3), 0px 1px 3px 1px rgba(60, 64, 67, 0.15);\n",
              "      fill: #174EA6;\n",
              "    }\n",
              "\n",
              "    [theme=dark] .colab-df-convert {\n",
              "      background-color: #3B4455;\n",
              "      fill: #D2E3FC;\n",
              "    }\n",
              "\n",
              "    [theme=dark] .colab-df-convert:hover {\n",
              "      background-color: #434B5C;\n",
              "      box-shadow: 0px 1px 3px 1px rgba(0, 0, 0, 0.15);\n",
              "      filter: drop-shadow(0px 1px 2px rgba(0, 0, 0, 0.3));\n",
              "      fill: #FFFFFF;\n",
              "    }\n",
              "  </style>\n",
              "\n",
              "      <script>\n",
              "        const buttonEl =\n",
              "          document.querySelector('#df-20dc666b-2a91-46aa-9af3-fe54cea3b82b button.colab-df-convert');\n",
              "        buttonEl.style.display =\n",
              "          google.colab.kernel.accessAllowed ? 'block' : 'none';\n",
              "\n",
              "        async function convertToInteractive(key) {\n",
              "          const element = document.querySelector('#df-20dc666b-2a91-46aa-9af3-fe54cea3b82b');\n",
              "          const dataTable =\n",
              "            await google.colab.kernel.invokeFunction('convertToInteractive',\n",
              "                                                     [key], {});\n",
              "          if (!dataTable) return;\n",
              "\n",
              "          const docLinkHtml = 'Like what you see? Visit the ' +\n",
              "            '<a target=\"_blank\" href=https://colab.research.google.com/notebooks/data_table.ipynb>data table notebook</a>'\n",
              "            + ' to learn more about interactive tables.';\n",
              "          element.innerHTML = '';\n",
              "          dataTable['output_type'] = 'display_data';\n",
              "          await google.colab.output.renderOutput(dataTable, element);\n",
              "          const docLink = document.createElement('div');\n",
              "          docLink.innerHTML = docLinkHtml;\n",
              "          element.appendChild(docLink);\n",
              "        }\n",
              "      </script>\n",
              "    </div>\n",
              "  </div>\n",
              "  "
            ]
          },
          "metadata": {},
          "execution_count": 165
        }
      ]
    },
    {
      "cell_type": "code",
      "source": [
        "eixo_y_v = df_prop_ano_valor['valor_prop'] / 1_000_000\n",
        "plt.subplots(figsize=(10,5))\n",
        "\n",
        "graf_3 = sns.barplot(df_prop_ano_valor, x='pais', y=eixo_y_v)\n",
        "graf_3.set_xticklabels(labels=graf_3.get_xticklabels(), rotation=60)\n",
        "graf_3.set(xlabel=\"países\", ylabel=\"Vendas em milhões de doláres\", title=\"10 países com maiores médias de US$/ano\")"
      ],
      "metadata": {
        "colab": {
          "base_uri": "https://localhost:8080/",
          "height": 645
        },
        "id": "kvXQZf0VUerU",
        "outputId": "2f2192ff-76c3-4fa8-ebb6-b1a91e57f249"
      },
      "execution_count": 166,
      "outputs": [
        {
          "output_type": "execute_result",
          "data": {
            "text/plain": [
              "[Text(0.5, 0, 'países'),\n",
              " Text(0, 0.5, 'Vendas em milhões de doláres'),\n",
              " Text(0.5, 1.0, '10 países com maiores médias de US$/ano')]"
            ]
          },
          "metadata": {},
          "execution_count": 166
        },
        {
          "output_type": "display_data",
          "data": {
            "text/plain": [
              "<Figure size 1000x500 with 1 Axes>"
            ],
            "image/png": "[encoded data removed]"
          },
          "metadata": {}
        }
      ]
    },
    {
      "cell_type": "code",
      "source": [
        "df_prop_ano_quant = df_prop_ano[['pais', 'quant_prop']]\n",
        "df_prop_ano_quant = df_prop_ano_quant.sort_values('quant_prop', ascending=False).head(10).round(decimals=0)\n",
        "df_prop_ano_quant"
      ],
      "metadata": {
        "colab": {
          "base_uri": "https://localhost:8080/",
          "height": 363
        },
        "id": "QeOijfIyUNRz",
        "outputId": "4e4cc9e1-108f-4ae7-9d03-d59632e8a64e"
      },
      "execution_count": 167,
      "outputs": [
        {
          "output_type": "execute_result",
          "data": {
            "text/plain": [
              "              pais  quant_prop\n",
              "31          Rússia   4358906.0\n",
              "1         Paraguai   1694904.0\n",
              "41         Espanha    284714.0\n",
              "6   Estados Unidos    254817.0\n",
              "37           Haiti    176871.0\n",
              "7            China    160780.0\n",
              "11   Países Baixos    100726.0\n",
              "3            Japão    100154.0\n",
              "2      Reino Unido     87022.0\n",
              "8         Alemanha     68062.0"
            ],
            "text/html": [
              "\n",
              "  <div id=\"df-914df7ec-8f56-4e56-afda-e17c5b219ce7\">\n",
              "    <div class=\"colab-df-container\">\n",
              "      <div>\n",
              "<style scoped>\n",
              "    .dataframe tbody tr th:only-of-type {\n",
              "        vertical-align: middle;\n",
              "    }\n",
              "\n",
              "    .dataframe tbody tr th {\n",
              "        vertical-align: top;\n",
              "    }\n",
              "\n",
              "    .dataframe thead th {\n",
              "        text-align: right;\n",
              "    }\n",
              "</style>\n",
              "<table border=\"1\" class=\"dataframe\">\n",
              "  <thead>\n",
              "    <tr style=\"text-align: right;\">\n",
              "      <th></th>\n",
              "      <th>pais</th>\n",
              "      <th>quant_prop</th>\n",
              "    </tr>\n",
              "  </thead>\n",
              "  <tbody>\n",
              "    <tr>\n",
              "      <th>31</th>\n",
              "      <td>Rússia</td>\n",
              "      <td>4358906.0</td>\n",
              "    </tr>\n",
              "    <tr>\n",
              "      <th>1</th>\n",
              "      <td>Paraguai</td>\n",
              "      <td>1694904.0</td>\n",
              "    </tr>\n",
              "    <tr>\n",
              "      <th>41</th>\n",
              "      <td>Espanha</td>\n",
              "      <td>284714.0</td>\n",
              "    </tr>\n",
              "    <tr>\n",
              "      <th>6</th>\n",
              "      <td>Estados Unidos</td>\n",
              "      <td>254817.0</td>\n",
              "    </tr>\n",
              "    <tr>\n",
              "      <th>37</th>\n",
              "      <td>Haiti</td>\n",
              "      <td>176871.0</td>\n",
              "    </tr>\n",
              "    <tr>\n",
              "      <th>7</th>\n",
              "      <td>China</td>\n",
              "      <td>160780.0</td>\n",
              "    </tr>\n",
              "    <tr>\n",
              "      <th>11</th>\n",
              "      <td>Países Baixos</td>\n",
              "      <td>100726.0</td>\n",
              "    </tr>\n",
              "    <tr>\n",
              "      <th>3</th>\n",
              "      <td>Japão</td>\n",
              "      <td>100154.0</td>\n",
              "    </tr>\n",
              "    <tr>\n",
              "      <th>2</th>\n",
              "      <td>Reino Unido</td>\n",
              "      <td>87022.0</td>\n",
              "    </tr>\n",
              "    <tr>\n",
              "      <th>8</th>\n",
              "      <td>Alemanha</td>\n",
              "      <td>68062.0</td>\n",
              "    </tr>\n",
              "  </tbody>\n",
              "</table>\n",
              "</div>\n",
              "      <button class=\"colab-df-convert\" onclick=\"convertToInteractive('df-914df7ec-8f56-4e56-afda-e17c5b219ce7')\"\n",
              "              title=\"Convert this dataframe to an interactive table.\"\n",
              "              style=\"display:none;\">\n",
              "        \n",
              "  <svg xmlns=\"http://www.w3.org/2000/svg\" height=\"24px\"viewBox=\"0 0 24 24\"\n",
              "       width=\"24px\">\n",
              "    <path d=\"M0 0h24v24H0V0z\" fill=\"none\"/>\n",
              "    <path d=\"M18.56 5.44l.94 2.06.94-2.06 2.06-.94-2.06-.94-.94-2.06-.94 2.06-2.06.94zm-11 1L8.5 8.5l.94-2.06 2.06-.94-2.06-.94L8.5 2.5l-.94 2.06-2.06.94zm10 10l.94 2.06.94-2.06 2.06-.94-2.06-.94-.94-2.06-.94 2.06-2.06.94z\"/><path d=\"M17.41 7.96l-1.37-1.37c-.4-.4-.92-.59-1.43-.59-.52 0-1.04.2-1.43.59L10.3 9.45l-7.72 7.72c-.78.78-.78 2.05 0 2.83L4 21.41c.39.39.9.59 1.41.59.51 0 1.02-.2 1.41-.59l7.78-7.78 2.81-2.81c.8-.78.8-2.07 0-2.86zM5.41 20L4 18.59l7.72-7.72 1.47 1.35L5.41 20z\"/>\n",
              "  </svg>\n",
              "      </button>\n",
              "      \n",
              "  <style>\n",
              "    .colab-df-container {\n",
              "      display:flex;\n",
              "      flex-wrap:wrap;\n",
              "      gap: 12px;\n",
              "    }\n",
              "\n",
              "    .colab-df-convert {\n",
              "      background-color: #E8F0FE;\n",
              "      border: none;\n",
              "      border-radius: 50%;\n",
              "      cursor: pointer;\n",
              "      display: none;\n",
              "      fill: #1967D2;\n",
              "      height: 32px;\n",
              "      padding: 0 0 0 0;\n",
              "      width: 32px;\n",
              "    }\n",
              "\n",
              "    .colab-df-convert:hover {\n",
              "      background-color: #E2EBFA;\n",
              "      box-shadow: 0px 1px 2px rgba(60, 64, 67, 0.3), 0px 1px 3px 1px rgba(60, 64, 67, 0.15);\n",
              "      fill: #174EA6;\n",
              "    }\n",
              "\n",
              "    [theme=dark] .colab-df-convert {\n",
              "      background-color: #3B4455;\n",
              "      fill: #D2E3FC;\n",
              "    }\n",
              "\n",
              "    [theme=dark] .colab-df-convert:hover {\n",
              "      background-color: #434B5C;\n",
              "      box-shadow: 0px 1px 3px 1px rgba(0, 0, 0, 0.15);\n",
              "      filter: drop-shadow(0px 1px 2px rgba(0, 0, 0, 0.3));\n",
              "      fill: #FFFFFF;\n",
              "    }\n",
              "  </style>\n",
              "\n",
              "      <script>\n",
              "        const buttonEl =\n",
              "          document.querySelector('#df-914df7ec-8f56-4e56-afda-e17c5b219ce7 button.colab-df-convert');\n",
              "        buttonEl.style.display =\n",
              "          google.colab.kernel.accessAllowed ? 'block' : 'none';\n",
              "\n",
              "        async function convertToInteractive(key) {\n",
              "          const element = document.querySelector('#df-914df7ec-8f56-4e56-afda-e17c5b219ce7');\n",
              "          const dataTable =\n",
              "            await google.colab.kernel.invokeFunction('convertToInteractive',\n",
              "                                                     [key], {});\n",
              "          if (!dataTable) return;\n",
              "\n",
              "          const docLinkHtml = 'Like what you see? Visit the ' +\n",
              "            '<a target=\"_blank\" href=https://colab.research.google.com/notebooks/data_table.ipynb>data table notebook</a>'\n",
              "            + ' to learn more about interactive tables.';\n",
              "          element.innerHTML = '';\n",
              "          dataTable['output_type'] = 'display_data';\n",
              "          await google.colab.output.renderOutput(dataTable, element);\n",
              "          const docLink = document.createElement('div');\n",
              "          docLink.innerHTML = docLinkHtml;\n",
              "          element.appendChild(docLink);\n",
              "        }\n",
              "      </script>\n",
              "    </div>\n",
              "  </div>\n",
              "  "
            ]
          },
          "metadata": {},
          "execution_count": 167
        }
      ]
    },
    {
      "cell_type": "code",
      "source": [
        "eixo_y_v = df_prop_ano_quant['quant_prop'] / 1_000_000\n",
        "plt.subplots(figsize=(10,5))\n",
        "\n",
        "graf_3 = sns.barplot(df_prop_ano_quant, x='pais', y=eixo_y_v)\n",
        "graf_3.set_xticklabels(labels=graf_3.get_xticklabels(), rotation=60)\n",
        "graf_3.set(xlabel=\"países\", ylabel=\"Quantidade exportada em milhões de litros\", title=\"10 países com maiores médias de L/ano\")"
      ],
      "metadata": {
        "colab": {
          "base_uri": "https://localhost:8080/",
          "height": 645
        },
        "id": "MZ2b2zXCX8qm",
        "outputId": "5586fb72-a234-4266-e80f-098cecbe0a26"
      },
      "execution_count": 168,
      "outputs": [
        {
          "output_type": "execute_result",
          "data": {
            "text/plain": [
              "[Text(0.5, 0, 'países'),\n",
              " Text(0, 0.5, 'Quantidade exportada em milhões de litros'),\n",
              " Text(0.5, 1.0, '10 países com maiores médias de L/ano')]"
            ]
          },
          "metadata": {},
          "execution_count": 168
        },
        {
          "output_type": "display_data",
          "data": {
            "text/plain": [
              "<Figure size 1000x500 with 1 Axes>"
            ],
            "image/png": "[encoded data removed]"
          },
          "metadata": {}
        }
      ]
    }
  ]
}